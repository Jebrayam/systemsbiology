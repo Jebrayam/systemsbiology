{
  "nbformat": 4,
  "nbformat_minor": 0,
  "metadata": {
    "colab": {
      "name": "simbMoments.ipynb",
      "provenance": [],
      "collapsed_sections": []
    },
    "kernelspec": {
      "name": "python3",
      "display_name": "Python 3"
    }
  },
  "cells": [
    {
      "cell_type": "markdown",
      "metadata": {
        "id": "znj1eiFpcJoQ"
      },
      "source": [
        "# simbMoments"
      ]
    },
    {
      "cell_type": "markdown",
      "metadata": {
        "id": "1fZqnZKecMEo"
      },
      "source": [
        "*simbMoments* determines a system of equations corresponding to the first and second moments of the population observations. The process to find each moment is quite similar to the way it was done to find the system of differential equations using *simbODE*. The equations are sympy objects which one can manipulate to compute some statistics from the whole population. The implemented function just determines upon the second moment. The first moment is equivalent to the mean behavior of the system output, while the second expresses the cross dependence of the species and is equivalent to the variance of the system output."
      ]
    },
    {
      "cell_type": "code",
      "metadata": {
        "id": "WC0srat7d-v8"
      },
      "source": [
        "#libraries required\n",
        "import numpy as np\n",
        "import sympy as sp"
      ],
      "execution_count": 12,
      "outputs": []
    },
    {
      "cell_type": "markdown",
      "metadata": {
        "id": "7yRf4QtmeJAA"
      },
      "source": [
        "**Defines System Properties**"
      ]
    },
    {
      "cell_type": "code",
      "metadata": {
        "id": "WYLCilQxeOqa"
      },
      "source": [
        "#molecular species\n",
        "species = ['x1', 'x2']\n",
        "species = sp.var(species)\n",
        "\n",
        "#system input\n",
        "inp = ['u']\n",
        "uh = sp.var(inp)\n",
        "ruh = 0  #reaction affected by input (0 = 1st reaction)\n",
        "\n",
        "#reagent and product matrices\n",
        "reactants = np.array([[0, 1, 1, 0],\n",
        "                      [0, 0, 0, 1]])\n",
        "products = np.array([[1, 0, 1, 0],\n",
        "                     [0, 0, 1, 0]])\n",
        "\n",
        "#kinetic parameters\n",
        "pars = ['c1', 'c2', 'c3', 'c4']\n",
        "parsValues = sp.var(pars)\n",
        "#to replace kinetic parameters for numeric values, uncomment the next line\n",
        "#and comment the two previous ones\n",
        "#parsValues = [4.0, 0.010, 1.0, 0.006]"
      ],
      "execution_count": 13,
      "outputs": []
    },
    {
      "cell_type": "markdown",
      "metadata": {
        "id": "hyI3mhLAfrjV"
      },
      "source": [
        "**Pre-processing of the System**. From previous defined information determines stoichiometric matrix and propensity vector. These arrays are used to compute \n",
        "the moments of the system."
      ]
    },
    {
      "cell_type": "code",
      "metadata": {
        "id": "WvQzfiiugKsc",
        "outputId": "019c5be4-924d-49da-bf7a-5df19a6cd657",
        "colab": {
          "base_uri": "https://localhost:8080/",
          "height": 85
        }
      },
      "source": [
        "#stoichiometric matrix\n",
        "V = products - reactants\n",
        "\n",
        "#pre-propensity function\n",
        "aPro = parsValues\n",
        "aPro[ruh] = aPro[ruh]*uh[0]  #Attaches system input\n",
        "\n",
        "#system dimentions\n",
        "Sn, Rm = V.shape\n",
        "\n",
        "#propensity function vector\n",
        "for r in range(0,Rm):\n",
        "    for s in range(0, Sn):\n",
        "        #determines propensity vector expressions\n",
        "        for a in range(0, reactants[s,r]):\n",
        "            aPro[r] *= species[s]\n",
        "        #end for a\n",
        "    #end for s\n",
        "#end for r\n",
        "print(\"Stoichimotric Matrix:\\n\", V)\n",
        "print(\"Propensity Function Vector:\", aPro)"
      ],
      "execution_count": 14,
      "outputs": [
        {
          "output_type": "stream",
          "text": [
            "Stoichimotric Matrix:\n",
            " [[ 1 -1  0  0]\n",
            " [ 0  0  1 -1]]\n",
            "Propensity Function Vector: [c1*u, c2*x1, c3*x1, c4*x2]\n"
          ],
          "name": "stdout"
        }
      ]
    },
    {
      "cell_type": "markdown",
      "metadata": {
        "id": "xTHzoOwKhGKp"
      },
      "source": [
        "**Computes Moments Equations**. Each species has its own first moment equation and second orden moment equation. The second moment is found for itself and crossed with other species."
      ]
    },
    {
      "cell_type": "markdown",
      "metadata": {
        "id": "WHFP4OfYhoR7"
      },
      "source": [
        "*First Moment*"
      ]
    },
    {
      "cell_type": "code",
      "metadata": {
        "id": "x35h15S6hqiP"
      },
      "source": [
        "#System of First Moment Equations\n",
        "odeX = []\n",
        "for s in range(0,Sn):\n",
        "    temp = 0\n",
        "    #Determines Defferential Equations\n",
        "    for r in range(0, Rm):\n",
        "        temp += V[s,r]*aPro[r]\n",
        "    #end for r\n",
        "    #Set of Differential Equations\n",
        "    odeX.append(temp)\n",
        "#end for s"
      ],
      "execution_count": 15,
      "outputs": []
    },
    {
      "cell_type": "markdown",
      "metadata": {
        "id": "YhvTj2rFiM4B"
      },
      "source": [
        "*Second Order Moment*"
      ]
    },
    {
      "cell_type": "code",
      "metadata": {
        "id": "fYIr7XQ4iD8B"
      },
      "source": [
        "#System of Second Order Equations\n",
        "ode2m = []\n",
        "name2m = []\n",
        "nameODE = species\n",
        "odeTotal = odeX\n",
        "for s1 in range(0, Sn):\n",
        "    for s2 in range(0, Sn):\n",
        "        #Determines second order expression\n",
        "        temp = 0\n",
        "        for r in range(0,Rm):\n",
        "            temp += (V[s1,r]*aPro[r]*species[s2] + V[s2,r]*aPro[r]*species[s1] \\\n",
        "                     + V[s1,r]*V[s2,r]*aPro[r])\n",
        "        #end for r\n",
        "\n",
        "        #set of second order moment equations\n",
        "        if temp not in ode2m:\n",
        "            ode2m.append(temp)\n",
        "            odeTotal.append(temp)\n",
        "        #end if temp\n",
        "\n",
        "        #variable names of second order species\n",
        "        if (species[s1]*species[s2]) not in name2m:\n",
        "            name2m.append(species[s1]*species[s2])\n",
        "            nameODE.append(species[s1]*species[s2])\n",
        "        #end if species s1*s2\n",
        "    #end for s2\n",
        "#end for s1"
      ],
      "execution_count": 16,
      "outputs": []
    },
    {
      "cell_type": "markdown",
      "metadata": {
        "id": "jJwg2JEpitWm"
      },
      "source": [
        "Some processing of the determined data to make easy posterior manipulation"
      ]
    },
    {
      "cell_type": "code",
      "metadata": {
        "id": "lyA_Asdsd8hd"
      },
      "source": [
        "#replaces variable names\n",
        "dxName = []\n",
        "dxODE = []\n",
        "for exp in odeTotal:\n",
        "    #at each expression searches for the variable names to replaces them\n",
        "    #for a nickname \"dx#\"\n",
        "    for j in range(0,len(nameODE)):\n",
        "        name = sp.var('dx' + str(len(nameODE)-j))\n",
        "        exp = exp.subs(nameODE[len(nameODE)-j-1],name)\n",
        "        \n",
        "        #stores nicknames\n",
        "        if name not in dxName:\n",
        "            dxName.append(name)\n",
        "        #end if name\n",
        "    #end for j\n",
        "    dxODE.append(exp)\n",
        "#end for exp\n",
        "dxName.reverse()"
      ],
      "execution_count": 17,
      "outputs": []
    },
    {
      "cell_type": "code",
      "metadata": {
        "id": "NZtRFKmKi306",
        "outputId": "92dd973d-7b5f-45fd-d05e-f5b39c5b9206",
        "colab": {
          "base_uri": "https://localhost:8080/",
          "height": 102
        }
      },
      "source": [
        "#Shows sistem of differential equations determined\n",
        "for k in range(0,len(odeTotal)):\n",
        "    print(f'd{nameODE[k]}/dt:', odeTotal[k])\n",
        " #     print(f'd({dxName[k]})/dt:', dxODE[k])\n",
        " #     print('\\n')\n",
        " #end for k"
      ],
      "execution_count": 18,
      "outputs": [
        {
          "output_type": "stream",
          "text": [
            "dx1/dt: c1*u - c2*x1\n",
            "dx2/dt: c3*x1 - c4*x2\n",
            "dx1**2/dt: 2*c1*u*x1 + c1*u - 2*c2*x1**2 + c2*x1\n",
            "dx1*x2/dt: c1*u*x2 - c2*x1*x2 + c3*x1**2 - c4*x1*x2\n",
            "dx2**2/dt: 2*c3*x1*x2 + c3*x1 - 2*c4*x2**2 + c4*x2\n"
          ],
          "name": "stdout"
        }
      ]
    }
  ]
}