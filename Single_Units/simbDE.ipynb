{
  "nbformat": 4,
  "nbformat_minor": 0,
  "metadata": {
    "colab": {
      "name": "simbDE.ipynb",
      "provenance": [],
      "collapsed_sections": []
    },
    "kernelspec": {
      "name": "python3",
      "display_name": "Python 3"
    }
  },
  "cells": [
    {
      "cell_type": "markdown",
      "metadata": {
        "id": "IuMtSet8hJ1a"
      },
      "source": [
        "# *simbDE* - Simbolic Differential Equations"
      ]
    },
    {
      "cell_type": "markdown",
      "metadata": {
        "id": "AYUweZahjBPH"
      },
      "source": [
        "*simbDE* is the function implemented to determine the differential equation system related to a biological system. These equations are used to compute the system output. The funcion determine the simbolic form of the equations, so their variables have to be replace for their actual values at the time when the differential equation system is used to compute the system output.\n",
        "\n",
        "The implementation of this function was done mainly using sympy, which it is the main Python library for symbolic mathematic."
      ]
    },
    {
      "cell_type": "code",
      "metadata": {
        "id": "musi9ccOhHsV"
      },
      "source": [
        "#packages required\n",
        "import numpy as np\n",
        "import sympy as sp"
      ],
      "execution_count": 10,
      "outputs": []
    },
    {
      "cell_type": "markdown",
      "metadata": {
        "id": "E2i0oFEXhgMJ"
      },
      "source": [
        "**Define biological system**\n",
        "To define a biological system is necessary to set the names of the molecular species that are considered. Also, it should be defined a variable meant to represent the system input \"u\". The name of each species together with the names of the kinetic variables are converted to a sympy class. This class allows to manipulate each variable in a simbolic way. Also, the way how the reactions take place and the species interact with each other is represented by the reagent and product matrices. The first one represents the count for every species while it is performing as a reagent. In the other hand, the product matrix represents the count for every species while it is performing as a product. In both matrices, each reaction is reprenseted as a column, while each species is a row from the matrices."
      ]
    },
    {
      "cell_type": "code",
      "metadata": {
        "id": "iS-dn7yrhddG"
      },
      "source": [
        "#molecular species\n",
        "species = ['x1', 'x2']\n",
        "species = sp.var(species)\n",
        "\n",
        "#system input\n",
        "inp = ['u']\n",
        "uh = sp.var(inp)\n",
        "ruh = 0  #reaction that it is affected by the input 0 = first reaction\n",
        "\n",
        "#reagent and product matrices\n",
        "#\"1\" represents that a specific species is changing in a certain reactin\n",
        "                      #r1,r2,r3,r4\n",
        "reactants = np.array([[0, 1, 1, 0],\n",
        "                      [0, 0, 0, 1]])\n",
        "products = np.array([[1, 0, 1, 0],\n",
        "                     [0, 0, 1, 0]])\n",
        "\n",
        "#kinetic parameters\n",
        "pars = ['c1', 'c2', 'c3', 'c4']\n",
        "parsValues = sp.var(pars)\n",
        "#parsValues = [4.0, 0.010, 1.0, 0.006] #to use numeric parameters uncomment this\n",
        "#line and comment the two previous ones"
      ],
      "execution_count": 11,
      "outputs": []
    },
    {
      "cell_type": "markdown",
      "metadata": {
        "id": "Lx65aQORo-VA"
      },
      "source": [
        "To identify the differential equations system from the previous defined data, first it has to be calculated a general soichiometric matrix. This matrix is equal to the difference between the product and the reagent matrices. The equations of the system are found using a propensity function. This function has the expressions corresponding to each interaction between the species in a certain reaction. Each value of the propensity function is multiplied by its respective value in the stoichiometric matrix."
      ]
    },
    {
      "cell_type": "code",
      "metadata": {
        "id": "A5V98lCoiIf0"
      },
      "source": [
        "#stoichiometric matrix\n",
        "V = products - reactants\n",
        "\n",
        "#pre-propensity function\n",
        "aPro = parsValues\n",
        "aPro[ruh] = aPro[ruh]*uh[0]  # adds input to the corresponding reaction\n",
        "\n",
        "#reaction network dimentions\n",
        "Sn, Rm = V.shape\n",
        "\n",
        "#propensity function vector\n",
        "for r in range(0,Rm):\n",
        "    for s in range(0, Sn):\n",
        "        #determine species interactions simbolically\n",
        "        for a in range(0, reactants[s,r]):\n",
        "            aPro[r] *= species[s]\n",
        "        #end for a\n",
        "    #end for s\n",
        "#end for r\n",
        "            \n",
        "#differential equations system\n",
        "odeX = []\n",
        "for s in range(0,Sn):\n",
        "    temp = 0\n",
        "    #define each equation of the system\n",
        "    for r in range(0, Rm):\n",
        "        temp += V[s,r]*aPro[r]\n",
        "    #end for r\n",
        "    \n",
        "    #set of equations\n",
        "    odeX.append(temp)\n",
        "#end for s"
      ],
      "execution_count": 12,
      "outputs": []
    },
    {
      "cell_type": "markdown",
      "metadata": {
        "id": "pKE1wcea3n0I"
      },
      "source": [
        "**Differential Equations System** Each differential equation represents a different species and how it interacts with the other species. Usually, the last equation serves as the equation to compute the gene expression in a certain biological system."
      ]
    },
    {
      "cell_type": "code",
      "metadata": {
        "id": "3HHFxnhMhAZd",
        "outputId": "5589b6aa-bdf2-4948-bef2-5299a3bd959d",
        "colab": {
          "base_uri": "https://localhost:8080/",
          "height": 51
        }
      },
      "source": [
        "#Shows the differential equations system\n",
        "for s in range(0, Sn):\n",
        "    print(f'd{species[s]}/dt:', odeX[s])"
      ],
      "execution_count": 13,
      "outputs": [
        {
          "output_type": "stream",
          "text": [
            "dx1/dt: c1*u - c2*x1\n",
            "dx2/dt: c3*x1 - c4*x2\n"
          ],
          "name": "stdout"
        }
      ]
    }
  ]
}