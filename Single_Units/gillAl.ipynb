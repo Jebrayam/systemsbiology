{
  "nbformat": 4,
  "nbformat_minor": 0,
  "metadata": {
    "colab": {
      "name": "gillAl.ipynb",
      "provenance": [],
      "collapsed_sections": []
    },
    "kernelspec": {
      "name": "python3",
      "display_name": "Python 3"
    }
  },
  "cells": [
    {
      "cell_type": "markdown",
      "metadata": {
        "id": "DyzMAD1NyO27"
      },
      "source": [
        "# gillAl"
      ]
    },
    {
      "cell_type": "markdown",
      "metadata": {
        "id": "3T5-zhxiyTDU"
      },
      "source": [
        "*gillAl* function is based on the Gillespie's algorithm to compute stochastically the output of biological system. As this function calculates the output numerically, it does not need to use any solver or package. It computes the amount of concentration for each species in a random time instant. Likewise, the reaction to be calculated it is random; what means that in each time instant takes places a different reaction."
      ]
    },
    {
      "cell_type": "code",
      "metadata": {
        "id": "Tbw-EObc061m"
      },
      "source": [
        "#requiered packages\n",
        "import numpy as np\n",
        "import simsysbio as s2b\n",
        "import matplotlib.pyplot as plt"
      ],
      "execution_count": 36,
      "outputs": []
    },
    {
      "cell_type": "markdown",
      "metadata": {
        "id": "4Fznzy7z1IGe"
      },
      "source": [
        "**Creates System Input**"
      ]
    },
    {
      "cell_type": "code",
      "metadata": {
        "id": "ev_wR66p1SKw",
        "outputId": "6867bbee-3671-420e-8e55-9c470eb2f24b",
        "colab": {
          "base_uri": "https://localhost:8080/",
          "height": 279
        }
      },
      "source": [
        "#computes a hog signal as system input\n",
        "#duration experiment\n",
        "tend = np.array([100], float)\n",
        "\n",
        "#pulse start and end \n",
        "ton = np.array([1], float)\n",
        "tdur = np.array([3], float)\n",
        "\n",
        "#calculo de la expresion y sus respectivos perfiles\n",
        "inputHOG, tog, perfiles = s2b.HOGexpr(ton, tdur, tend)\n",
        "\n",
        "#Plotting\n",
        "plt.figure()\n",
        "plt.plot(tog, perfiles['t_u_Valve'], label='Step Signal (Valve)')\n",
        "plt.plot(perfiles['t_u_Chamber'][0], perfiles['t_u_Chamber'][1], label='Delayed Step Signal (Camera)')\n",
        "plt.plot(tog, inputHOG, label='Model Signal (HOG)')\n",
        "plt.legend(loc='best')\n",
        "plt.xlabel('Time (min)')\n",
        "plt.ylabel('Concentration')\n",
        "plt.grid()\n",
        "plt.show()"
      ],
      "execution_count": 37,
      "outputs": [
        {
          "output_type": "display_data",
          "data": {
            "image/png": "[encoded data removed]",
            "text/plain": [
              "<Figure size 432x288 with 1 Axes>"
            ]
          },
          "metadata": {
            "tags": [],
            "needs_background": "light"
          }
        }
      ]
    },
    {
      "cell_type": "markdown",
      "metadata": {
        "id": "PlREm1zH1eaa"
      },
      "source": [
        "**Defines System Properties**"
      ]
    },
    {
      "cell_type": "code",
      "metadata": {
        "id": "ilC7PY5A1iPo"
      },
      "source": [
        "#number of cell\n",
        "ncells = 1\n",
        "\n",
        "#kinetic parameters\n",
        "parsValues = [4.0, 0.010, 1.0, 0.006]\n",
        "\n",
        "#initial concentratios of the species\n",
        "A0 = np.zeros((2,1))\n",
        "\n",
        "#reagent and product matrices\n",
        "reactants = np.array([[0, 1, 1, 0],[0, 0, 0, 1]])\n",
        "products = np.array([[1, 0, 1, 0],[0, 0, 1, 0]])\n",
        "\n",
        "#reaction affected by the input stimulus (0 = first reaction)\n",
        "indexU = 0"
      ],
      "execution_count": 38,
      "outputs": []
    },
    {
      "cell_type": "markdown",
      "metadata": {
        "id": "rdY7jB9M17b5"
      },
      "source": [
        "Adds fake species to the matrices. This species is meant to keep increasing in each iteration."
      ]
    },
    {
      "cell_type": "code",
      "metadata": {
        "id": "vdhSToOa2Hga",
        "outputId": "135796a2-fa25-4cd8-986b-aecdddd6976b",
        "colab": {
          "base_uri": "https://localhost:8080/",
          "height": 119
        }
      },
      "source": [
        "#Adds fake species and reaction\n",
        "cfake = np.zeros((reactants.shape[0],1))\n",
        "\n",
        "reactants = np.hstack((reactants, cfake))\n",
        "products = np.hstack((products, cfake))\n",
        "\n",
        "rfake = np.zeros((1,reactants.shape[1]))\n",
        "\n",
        "reactants = np.vstack((reactants, rfake))\n",
        "products = np.vstack((products, rfake))\n",
        "products[-1,-1] = 2.0\n",
        "\n",
        "reactants = reactants.astype(int)\n",
        "products = products.astype(int)\n",
        "\n",
        "print(\"Reagent Matrix:\", reactants)\n",
        "print(\"Products Matrix:\", products)"
      ],
      "execution_count": 39,
      "outputs": [
        {
          "output_type": "stream",
          "text": [
            "Reagent Matrix: [[0 1 1 0 0]\n",
            " [0 0 0 1 0]\n",
            " [0 0 0 0 0]]\n",
            "Products Matrix: [[1 0 1 0 0]\n",
            " [0 0 1 0 0]\n",
            " [0 0 0 0 2]]\n"
          ],
          "name": "stdout"
        }
      ]
    },
    {
      "cell_type": "markdown",
      "metadata": {
        "id": "fVVhkfun2rE9"
      },
      "source": [
        "**Processing of the whole cell population**"
      ]
    },
    {
      "cell_type": "code",
      "metadata": {
        "id": "rLBC1OIr2qMb",
        "outputId": "5a3f0aa3-46b4-4fed-fa2b-46f59cd95117",
        "colab": {
          "base_uri": "https://localhost:8080/",
          "height": 34
        }
      },
      "source": [
        "#array to store system output\n",
        "valuesStoch = np.zeros((len(A0), len(tog),ncells))\n",
        "\n",
        "#loop for computing every cell in the system\n",
        "for cell in range(0,ncells):\n",
        "    \n",
        "    #copy parameters to an alternative variable that will change through each \n",
        "    #iteration\n",
        "    knu = np.copy(parsValues)\n",
        "    #appends the additional kinetic parameter for the fake reaction\n",
        "    knu = np.append(parsValues, 1)\n",
        "    #species initial concentration of each cell\n",
        "    A0 = np.zeros((2,1))\n",
        "    #appends initial condion of fake species\n",
        "    A0 = np.append(A0, 0)\n",
        "    \n",
        "    #####################################################################\n",
        "    #these set of parameters will take into account the effect from the input\n",
        "    real_knu = np.copy(knu)\n",
        "    \n",
        "    #number of species\n",
        "    Nchs = A0.shape[0]\n",
        "    #number of parameters\n",
        "    q = knu.shape[0]\n",
        "    \n",
        "    #initial conditions\n",
        "    m = 0\n",
        "    A = np.zeros((len(A0), 1))\n",
        "    A[:,0] = A0\n",
        "    t = np.zeros(1)\n",
        "    \n",
        "    while t[m] <= tog[-1]:\n",
        "        #creates a temporal variable to store the propensity values gotten from \n",
        "        #reactions and species\n",
        "        alpha = np.zeros(q)\n",
        "        \n",
        "        #STEP 1\n",
        "        #for each parameter it is computed the propensity for each respective \n",
        "        #reaction\n",
        "        \n",
        "        #it is calculated av=hv*cv. where cv is reaction kinetic parameter.\n",
        "        #hv is the number of different molecular reagent in a reaction Ru\n",
        "        for i in range(0,q):\n",
        "            if i == indexU:\n",
        "                approx_t = np.floor(t[m]).astype(int)# + 1\n",
        "                real_knu[i] = knu[i]*inputHOG[approx_t]\n",
        "            #end if i\n",
        "        \n",
        "            alpha[i] = real_knu[i]\n",
        "    \n",
        "            for j in range(0,Nchs):\n",
        "                for s in range(0,reactants[j,i]):\n",
        "                    ss = 1\n",
        "                    alpha[i] = alpha[i]*(A[j,m]-ss+1)\n",
        "                #end for s\n",
        "            #end for j\n",
        "            \n",
        "        #end for i\n",
        "\n",
        "        #calculation of a0 = sum(av)          \n",
        "        alpha0 = np.sum(alpha)\n",
        "        \n",
        "        #STEP 2\n",
        "        #generates two random numbers. first one r1 is used to compute tau's \n",
        "        #value. tau = (1/a0)*ln(1/r1). tau represents the instant of time in \n",
        "        #which next reaction takes place\n",
        "        r = np.random.rand(2)\n",
        "\n",
        "        alpha0_1 = 1/alpha0\n",
        "        tau = alpha0_1*(np.log(1/r[0]))\n",
        "        \n",
        "        #r2 is used to determine the type of reaction to take place in a certain\n",
        "        #instant of time. To find it out the next condition have to be true\n",
        "        #--> sum(avi/ao) > r2   \n",
        "        ii = 0\n",
        "        sumalpha = alpha0_1*alpha[0]\n",
        "    \n",
        "        while r[1] >= sumalpha:\n",
        "            ii += 1\n",
        "            sumalpha += alpha0_1*alpha[ii]\n",
        "        #end while r\n",
        "        \n",
        "        #STEP 3\n",
        "        #appends computed time and concentration values \n",
        "        #increases m value\n",
        "        Atemp = A[:,m] - reactants[:,ii] + products[:,ii] \n",
        "        A = np.concatenate((A, np.array([Atemp]).T), axis=1)\n",
        "        t = np.append(t, (t[m] + tau))\n",
        "        \n",
        "        #updates m\n",
        "        m += 1\n",
        "        #while loop repeats until time vector values overcome duration \n",
        "        #experiment\n",
        "    #end while t\n",
        "    \n",
        "    #set last element of the time vector as the same as duration experiment   \n",
        "    if t[-1] > tog[-1]:\n",
        "        t[-1] = tog[-1]\n",
        "    \n",
        "    #deletes values smaller than 0 and remove fake species\n",
        "    A[A < 0] = 0\n",
        "    Apost = np.copy(A[:-1,:])\n",
        "    \n",
        "    #creates an array to store concentration values. The array is \n",
        "    #overdimentionated to repeat some values\n",
        "    Npl = 2*(len(t) - 2) + 2\n",
        "    Apl = np.zeros((Nchs - 1, Npl))\n",
        "    \n",
        "    #appends some reapeated values to perform interpolation\n",
        "    for i in range(0,len(t) - 1):#-1\n",
        "        Apl[:,2*i] = Apost[:,i]\n",
        "        Apl[:,2*i+1] = Apost[:,i]\n",
        "    #end for i\n",
        "    \n",
        "    #creates a new array to store time. Assigns initial and end values from \n",
        "    #experiment time vector\n",
        "    tpl = np.zeros(Npl) \n",
        "    tpl[0] = t[0]\n",
        "    tpl[Npl-1] = t[len(t) - 1]\n",
        "    \n",
        "    #repeats some  adjacent values to perform interpolation\n",
        "    for j in range(1,len(t) - 1):\n",
        "        tpl[2*j-1] = t[j]\n",
        "        tpl[2*j] = t[j] \n",
        "    #end for j\n",
        "    \n",
        "    #deletes repeated values and takes original indexes from remaining values\n",
        "    tpl2, ind = np.unique(tpl, return_index=True)\n",
        "    Apl2 = Apl[:,ind]\n",
        "    \n",
        "    #performs interporlation over data to adjust it to real time vector\n",
        "    Apl2x = np.zeros((len(tog),Nchs - 1))\n",
        "\n",
        "    for inter in range(0,Nchs - 1):\n",
        "        Apl2x[:,inter] = np.interp(tog, tpl2, Apl2[inter,:].T)\n",
        "    #end for inter\n",
        "    \n",
        "    #deletes values smaller than o\n",
        "    Apl2x[Apl2x<0] = 0\n",
        "    Apl2x = Apl2x.T\n",
        "    \n",
        "    #final array which it contains system output\n",
        "    valuesStoch[:,:,cell] = Apl2x[:,:]\n",
        "    print(\"Cell:\", cell+1)\n",
        "#end for cell"
      ],
      "execution_count": 40,
      "outputs": [
        {
          "output_type": "stream",
          "text": [
            "Cell: 1\n"
          ],
          "name": "stdout"
        }
      ]
    },
    {
      "cell_type": "markdown",
      "metadata": {
        "id": "5zlt1fsH75y1"
      },
      "source": [
        "**Plotting**"
      ]
    },
    {
      "cell_type": "code",
      "metadata": {
        "id": "SaAOC5WE77gg",
        "outputId": "4d5698e5-09f6-469b-a4da-335eedeff940",
        "colab": {
          "base_uri": "https://localhost:8080/",
          "height": 279
        }
      },
      "source": [
        "#graficación de la respuesta del sistema    \n",
        "plt.figure()\n",
        "for fig in range(0,1):\n",
        "    plt.plot(tog,valuesStoch[1,:,fig],label='Stochastic Protein Expression Profile')\n",
        "    plt.legend(loc='best')\n",
        "    plt.xlabel('Time (min)')\n",
        "    plt.ylabel('Concentration')\n",
        "    plt.grid()\n",
        "    plt.legend(loc='best')\n",
        "plt.show()"
      ],
      "execution_count": 41,
      "outputs": [
        {
          "output_type": "display_data",
          "data": {
            "image/png": "[encoded data removed]",
            "text/plain": [
              "<Figure size 432x288 with 1 Axes>"
            ]
          },
          "metadata": {
            "tags": [],
            "needs_background": "light"
          }
        }
      ]
    }
  ]
}