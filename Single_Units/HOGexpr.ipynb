{
  "nbformat": 4,
  "nbformat_minor": 0,
  "metadata": {
    "colab": {
      "name": "HOGexpr.ipynb",
      "provenance": [],
      "collapsed_sections": []
    },
    "kernelspec": {
      "name": "python3",
      "display_name": "Python 3"
    }
  },
  "cells": [
    {
      "cell_type": "markdown",
      "metadata": {
        "id": "FB4ISAgpipV1"
      },
      "source": [
        "# HOGexpr"
      ]
    },
    {
      "cell_type": "markdown",
      "metadata": {
        "id": "EneVWJ2Si3bq"
      },
      "source": [
        "*HOGexpr* computes a signal, which can works as input in a specific system. It takes as input the pulses start, pulses duration and experiment duration in minutes. The latter is a constant, while the others are vectors and they have to be the same length. From this function one gets three different signals or profiles. Each of these can be used as a system input. The first one is a step signal that can perform as a valve would do in an experiment. The second one is similar to the previous want but it is deleyed 3 units of time. This functions represents how a stimulus has a delay when it is seen in the biological system. The last one is a signal defined by a differential equation model. The model parameters are specific  for a specific biological process."
      ]
    },
    {
      "cell_type": "code",
      "metadata": {
        "id": "c5tR09K9knyH"
      },
      "source": [
        "#packages required\n",
        "import numpy as np\n",
        "from scipy.integrate import odeint\n",
        "import matplotlib.pyplot as plt"
      ],
      "execution_count": 21,
      "outputs": []
    },
    {
      "cell_type": "markdown",
      "metadata": {
        "id": "Ew0H2VgRk1dc"
      },
      "source": [
        "**Defining pulses applied throughout the system**"
      ]
    },
    {
      "cell_type": "code",
      "metadata": {
        "id": "RmoJWvtPlIcB"
      },
      "source": [
        "#experiment duration\n",
        "tend = np.array([100], float)\n",
        "\n",
        "#vectors to define pulses start and duration\n",
        "ton = np.array([1, 5], float)\n",
        "tdur = np.array([3, 3], float)"
      ],
      "execution_count": 22,
      "outputs": []
    },
    {
      "cell_type": "markdown",
      "metadata": {
        "id": "CQPDgxsXlYrQ"
      },
      "source": [
        "**Compute system input**"
      ]
    },
    {
      "cell_type": "markdown",
      "metadata": {
        "id": "a0JuwC_cljm2"
      },
      "source": [
        "Process to create step signal that works as a shock valve"
      ]
    },
    {
      "cell_type": "code",
      "metadata": {
        "id": "8j6ZB97olsSG",
        "outputId": "25a5ca31-13c9-490f-8677-187022bb7380",
        "colab": {
          "base_uri": "https://localhost:8080/",
          "height": 449
        }
      },
      "source": [
        "#time vector\n",
        "cell_time = np.linspace(0,int(tend),int(tend) + 1)\n",
        "print(\"Time vector:\", cell_time)\n",
        "\n",
        "### SHOCK VALVE ###\n",
        "#checks that pulses start are greater than 0\n",
        "#checks that pulses start are smaller than experiment duration\n",
        "vton = np.where((ton >= 0) & (ton < tend))\n",
        "\n",
        "ton = ton[vton]\n",
        "tdur = tdur[vton]\n",
        "\n",
        "#checks that pulses duration does not overlap between them\n",
        "for i in range(len(ton) - 1):\n",
        "    if ton[i]+tdur[i] > ton[i+1]:\n",
        "        print(\"Pulses overlap\")\n",
        "\n",
        "#time and signal initial values\n",
        "t0 = np.array([0], float)\n",
        "u0 = np.array([0], float)\n",
        "\n",
        "#sets \"HIGH\" in each pulses start\n",
        "uon = ton*0 + 1\n",
        "\n",
        "#sets \"HIGH\" in each pulses end\n",
        "toff = ton + tdur\n",
        "uoff = 0*toff + 1\n",
        "\n",
        "#at the same time when pulses start, the signal is set as \"LOW\"\n",
        "tpre = ton\n",
        "upre = 0*tpre\n",
        "\n",
        "#at the same time when pulses end, the signal is set as \"LOW\"\n",
        "tpos = toff\n",
        "upos = 0*tpos\n",
        "\n",
        "#pulses final state\n",
        "if toff[-1] > tend:\n",
        "    uend = np.array([uoff[-1]])\n",
        "else:\n",
        "    uend = np.array([0], float)\n",
        "\n",
        "#concatenation of each set time instants and their respective states during \n",
        "#experiment\n",
        "tValve = np.concatenate((t0, tpre, ton, toff, tpos, tend))\n",
        "uValve = np.concatenate((u0, upre, uon, uoff, upos, uend))\n",
        "\n",
        "#finds indexes to sort vector ascendingly\n",
        "ind = np.argsort(tValve)\n",
        "\n",
        "#takes indexes to sort time vector with its corresponding signal states\n",
        "tValve = tValve[ind]\n",
        "uValve = uValve[ind]\n",
        "\n",
        "#checks and removes any time instant greater that duration experiment\n",
        "nonv = np.where(tValve > tend[0])\n",
        "\n",
        "tValve = np.delete(tValve, nonv)\n",
        "uValve = np.delete(uValve, nonv)\n",
        "\n",
        "#step signal and time array\n",
        "t_u_Valve = np.vstack((tValve,uValve))\n",
        "print(\"Step Signal:\", t_u_Valve[1])\n",
        "print(\"Time Signal:\", t_u_Valve[0])\n",
        "\n",
        "plt.figure()\n",
        "plt.plot(t_u_Valve[0], t_u_Valve[1], label=\"Step Signal (Valve)\")\n",
        "plt.legend(loc='best')\n",
        "plt.ylabel('Concentration')\n",
        "plt.xlabel('Time (min)')\n",
        "plt.grid()\n",
        "plt.show()"
      ],
      "execution_count": 23,
      "outputs": [
        {
          "output_type": "stream",
          "text": [
            "Time vector: [  0.   1.   2.   3.   4.   5.   6.   7.   8.   9.  10.  11.  12.  13.\n",
            "  14.  15.  16.  17.  18.  19.  20.  21.  22.  23.  24.  25.  26.  27.\n",
            "  28.  29.  30.  31.  32.  33.  34.  35.  36.  37.  38.  39.  40.  41.\n",
            "  42.  43.  44.  45.  46.  47.  48.  49.  50.  51.  52.  53.  54.  55.\n",
            "  56.  57.  58.  59.  60.  61.  62.  63.  64.  65.  66.  67.  68.  69.\n",
            "  70.  71.  72.  73.  74.  75.  76.  77.  78.  79.  80.  81.  82.  83.\n",
            "  84.  85.  86.  87.  88.  89.  90.  91.  92.  93.  94.  95.  96.  97.\n",
            "  98.  99. 100.]\n",
            "Step Signal: [0. 0. 1. 1. 0. 0. 1. 1. 0. 0.]\n",
            "Time Signal: [  0.   1.   1.   4.   4.   5.   5.   8.   8. 100.]\n"
          ],
          "name": "stdout"
        },
        {
          "output_type": "display_data",
          "data": {
            "image/png": "[encoded data removed]",
            "text/plain": [
              "<Figure size 432x288 with 1 Axes>"
            ]
          },
          "metadata": {
            "tags": [],
            "needs_background": "light"
          }
        }
      ]
    },
    {
      "cell_type": "markdown",
      "metadata": {
        "id": "d5xfzk3pqiUe"
      },
      "source": [
        "Then, the step signal is deleyed. This is take into account the lag between the pulse start and the moment when it is seen by the biological system. e.g. in a chamber."
      ]
    },
    {
      "cell_type": "code",
      "metadata": {
        "id": "IKxhb3bJrmXa",
        "outputId": "29f360c4-60ca-41e0-c012-0e42d4fec475",
        "colab": {
          "base_uri": "https://localhost:8080/",
          "height": 313
        }
      },
      "source": [
        "###     CHAMBER   ####################################################\n",
        "#delay at the beginnig\n",
        "ton = ton + 3\n",
        "\n",
        "#profile evolution of the the shock in the chamber\n",
        "#the \"HIGH\"s and \"LOW\"s are set just like it was done with the step signals\n",
        "uon = ton*0 + 1\n",
        "\n",
        "#\"HIGH\" values upon the pulse end. It rests one unit of time due to exponetial\n",
        "#descending at the end of the signal in the chamber\n",
        "toff = ton + tdur - 1\n",
        "uoff = 0*toff + 1\n",
        "\n",
        "#in camera, it is set \"LOW\" one instant of time before the pulse\n",
        "tpre = ton - 1\n",
        "upre = 0*tpre\n",
        "\n",
        "#profile decays exponetially in four instants of time\n",
        "tpos1 = toff + 1\n",
        "upos1 = tpos1*0 + 0.75\n",
        "\n",
        "tpos2 = toff + 2\n",
        "upos2 = tpos2*0 + 0.5\n",
        "\n",
        "tpos3 = toff + 3\n",
        "upos3 = tpos3*0 + 0.25\n",
        "\n",
        "tpos4 = toff + 4\n",
        "upos4 = tpos4*0\n",
        "\n",
        "#processing of vector to avoid some overlaping at the start and end vector.\n",
        "\n",
        "#temporal time and signal vectors\n",
        "temp0 = np.concatenate((tpos1, tpos2, tpos3, tpos4))\n",
        "utemp0 = np.concatenate((upos1, upos2, upos3, upos4))\n",
        "\n",
        "#compares later time instants and pulse start. So, it keeps \"High\" if there is overlaping \n",
        "for i in range(0, len(uon) - 1):\n",
        "    tempt = temp0[i::(len(uon))]\n",
        "    \n",
        "    for j in range(0,4):\n",
        "        if tempt[j] > ton[i+1]:\n",
        "            if j == 0:\n",
        "                upos1[i] = 1\n",
        "            elif j == 1:\n",
        "                upos2[i] = 1\n",
        "            elif j == 2:\n",
        "                upos3[i] = 1\n",
        "            elif j == 3:\n",
        "                upos4[i] = 1\n",
        "    #end for j\n",
        "#end for i \n",
        "\n",
        "#processing to avoid that pulse ending overlap with the start of the next pulse\n",
        "for i in range(0, len(uon) - 1):\n",
        "    tempt = temp0[i::(len(uon))]\n",
        "    tempu = utemp0[i::(len(uon))]\n",
        "    \n",
        "    for j in range(0,4):\n",
        "        if tpre[i+1] == tempt[j]:\n",
        "            upre[i+1] = tempu[j]\n",
        "    #end for j\n",
        "#end for i\n",
        "\n",
        "#attaches final value\n",
        "if toff[-1] > tend:\n",
        "    uend = np.array([uoff[-1]])\n",
        "else:\n",
        "    uend = np.array([0], float)\n",
        "\n",
        "#concatenates time instants and signal states \n",
        "tChamber = np.concatenate((t0, tpre, ton, toff, tpos1, tpos2, tpos3, tpos4, tend))\n",
        "uChamber = np.concatenate((u0, upre, uon, uoff, upos1, upos2, upos3, upos4, uend))\n",
        "\n",
        "#sort time instants ascendingly and takes index with no repetition\n",
        "uniq, ind = np.unique(tChamber, return_index=True)\n",
        "\n",
        "#from indexes takes state values and corresponding time instants\n",
        "tChamber = tChamber[ind]\n",
        "uChamber = uChamber[ind]\n",
        "\n",
        "#checks and removes time instants that are greater that experiment duration\n",
        "nonc = np.where(tChamber > tend[0])\n",
        "\n",
        "tChamber = np.delete(tChamber, nonc)\n",
        "uChamber = np.delete(uChamber, nonc)\n",
        "\n",
        "#deley signal array\n",
        "t_u_Chamber = np.vstack((tChamber,uChamber))\n",
        "print(\"Deleyed Step Signal:\", t_u_Chamber[1])\n",
        "print(\"Time Vector:\", t_u_Chamber[0])\n",
        "\n",
        "plt.figure()\n",
        "plt.plot(t_u_Valve[0], t_u_Valve[1], label=\"Step Signal (Valve)\")\n",
        "plt.plot(t_u_Chamber[0], t_u_Chamber[1], label=\"Delayed Step Signal (Valve)\")\n",
        "plt.legend(loc='best')\n",
        "plt.ylabel('Concentration')\n",
        "plt.xlabel('Time (min)')\n",
        "plt.grid()\n",
        "plt.show()"
      ],
      "execution_count": 24,
      "outputs": [
        {
          "output_type": "stream",
          "text": [
            "Deleyed Step Signal: [0.   0.   1.   1.   0.75 1.   1.   1.   0.75 0.5  0.25 0.   0.  ]\n",
            "Time Vector: [  0.   3.   4.   6.   7.   8.   9.  10.  11.  12.  13.  14. 100.]\n"
          ],
          "name": "stdout"
        },
        {
          "output_type": "display_data",
          "data": {
            "image/png": "[encoded data removed]",
            "text/plain": [
              "<Figure size 432x288 with 1 Axes>"
            ]
          },
          "metadata": {
            "tags": [],
            "needs_background": "light"
          }
        }
      ]
    },
    {
      "cell_type": "markdown",
      "metadata": {
        "id": "8LuGkFfmxZT9"
      },
      "source": [
        "If it is needed one can create a signal from a model. The signal takes as input the signals computed before."
      ]
    },
    {
      "cell_type": "code",
      "metadata": {
        "id": "BEulRKJUixss",
        "outputId": "9cee2013-36b3-4c53-a661-cb0cfdf9f235",
        "colab": {
          "base_uri": "https://localhost:8080/",
          "height": 721
        }
      },
      "source": [
        "### Example: HOG expresion ###\n",
        "u = np.interp(cell_time, tChamber, uChamber)\n",
        "\n",
        "#HOG model\n",
        "#parameters are specific for this model\n",
        "def modelHOG(z,t,u):\n",
        "    hog = z[0]\n",
        "    dydt = 0.3968*u - 0.9225*hog\n",
        "    return dydt\n",
        "\n",
        "#initial values of HOG\n",
        "hog0 = 0.0\n",
        "\n",
        "#creates a vector to storege HOG values\n",
        "hog = np.zeros(len(cell_time))\n",
        "hog[0] = hog0\n",
        "\n",
        "#solves differential equation. Each iteratin is a time instant\n",
        "for i in range(1,int(tend) + 1):\n",
        "    tspan = [cell_time[i-1], cell_time[i]]\n",
        "    \n",
        "    z = odeint(modelHOG,hog0,tspan,args=(u[i],))\n",
        "    \n",
        "    hog[i] = z[1]\n",
        "    hog0 = z[1]\n",
        "#end for i\n",
        "\n",
        "print(\"HOG vector:\", hog)\n",
        "################################\n",
        "plt.figure()\n",
        "plt.plot(t_u_Valve[0], t_u_Valve[1], label=\"Step Signal (Valve)\")\n",
        "plt.plot(t_u_Chamber[0], t_u_Chamber[1], label=\"Delayed Step Signal (Chamber)\")\n",
        "plt.plot(cell_time, hog, label='Model Signal (HOG)')\n",
        "plt.legend(loc='best')\n",
        "plt.ylabel('Concentration')\n",
        "plt.xlabel('Time (min)')\n",
        "plt.grid()\n",
        "plt.show()"
      ],
      "execution_count": 25,
      "outputs": [
        {
          "output_type": "stream",
          "text": [
            "HOG vector: [0.00000000e+00 0.00000000e+00 0.00000000e+00 0.00000000e+00\n",
            " 2.59146301e-01 3.62163180e-01 4.03114848e-01 3.54607577e-01\n",
            " 4.00111326e-01 4.18200146e-01 4.25390916e-01 3.63462849e-01\n",
            " 2.74058376e-01 1.73731371e-01 6.90623983e-02 2.74539706e-02\n",
            " 1.09136228e-02 4.33843481e-03 1.72463787e-03 6.85588226e-04\n",
            " 2.72538899e-04 1.08345211e-04 4.30756920e-05 1.71269540e-05\n",
            " 6.81147809e-06 2.70913159e-06 1.07233785e-06 4.23620259e-07\n",
            " 1.66847736e-07 6.57572553e-08 2.59159282e-08 1.02138530e-08\n",
            " 4.02542921e-09 1.58647983e-09 6.25254317e-10 2.46421525e-10\n",
            " 9.71181481e-11 3.82755964e-11 1.50849327e-11 5.94517495e-12\n",
            " 2.34307270e-12 9.23435919e-13 3.63938208e-13 1.43432789e-13\n",
            " 5.65287201e-14 2.22786971e-14 8.78032047e-15 3.46043663e-15\n",
            " 1.36380225e-15 5.37491854e-16 2.11832389e-16 8.34858456e-17\n",
            " 3.29028378e-17 1.29674296e-17 5.11063052e-18 2.01416540e-18\n",
            " 7.93808695e-19 3.12850359e-19 1.23298435e-19 4.85935448e-20\n",
            " 1.91513646e-20 7.54781078e-21 2.97469495e-21 1.17236821e-21\n",
            " 4.62046628e-22 1.82099087e-22 7.17678496e-23 2.82847481e-23\n",
            " 1.11474344e-23 4.39336998e-24 1.73149358e-24 6.82408236e-25\n",
            " 2.68947750e-25 1.05996582e-25 4.17749671e-26 1.64642022e-26\n",
            " 6.48881804e-27 2.55735398e-27 1.00789770e-27 3.97230357e-28\n",
            " 1.56555666e-28 6.17014752e-29 2.43177121e-29 9.58407712e-30\n",
            " 3.77727253e-30 1.48869863e-30 5.86726516e-31 2.31241148e-31\n",
            " 9.11370572e-32 3.59190948e-32 1.41565125e-32 5.57940251e-33\n",
            " 2.19897173e-33 8.66666775e-34 3.41574318e-34 1.34622870e-34\n",
            " 5.30582679e-35 2.09116302e-35 8.24182375e-36 3.24832430e-36\n",
            " 1.28025380e-36]\n"
          ],
          "name": "stdout"
        },
        {
          "output_type": "display_data",
          "data": {
            "image/png": "[encoded data removed]",
            "text/plain": [
              "<Figure size 432x288 with 1 Axes>"
            ]
          },
          "metadata": {
            "tags": [],
            "needs_background": "light"
          }
        }
      ]
    }
  ]
}