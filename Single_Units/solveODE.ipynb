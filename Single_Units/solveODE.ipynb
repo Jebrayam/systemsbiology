{
  "nbformat": 4,
  "nbformat_minor": 0,
  "metadata": {
    "colab": {
      "name": "solveODE.ipynb",
      "provenance": [],
      "collapsed_sections": []
    },
    "kernelspec": {
      "name": "python3",
      "display_name": "Python 3"
    }
  },
  "cells": [
    {
      "cell_type": "markdown",
      "metadata": {
        "id": "c4XCSTfW5ser"
      },
      "source": [
        "# solveODE"
      ]
    },
    {
      "cell_type": "markdown",
      "metadata": {
        "id": "d0pnGFCZ5uk8"
      },
      "source": [
        "*solveODE* is a function created to compute and solve a differential equations system. It takes the simbolic equations create from *simbODE* and replaces variables with their respective numeric values."
      ]
    },
    {
      "cell_type": "code",
      "metadata": {
        "id": "phiQP8jC6s0q"
      },
      "source": [
        "#requiered packages\n",
        "import simsysbio as s2b \n",
        "import numpy as np\n",
        "import matplotlib.pyplot as plt\n",
        "import sympy as sp\n",
        "from scipy.integrate import odeint"
      ],
      "execution_count": 12,
      "outputs": []
    },
    {
      "cell_type": "markdown",
      "metadata": {
        "id": "eKtdPstN7xAG"
      },
      "source": [
        "First, let's define the biological systems and find the differential equations system"
      ]
    },
    {
      "cell_type": "code",
      "metadata": {
        "id": "8B7htn0Y7wKk",
        "outputId": "06580478-c522-41f5-e76d-784b0cd807d0",
        "colab": {
          "base_uri": "https://localhost:8080/",
          "height": 68
        }
      },
      "source": [
        "####### Determine the differential equations system\n",
        "#molecular species\n",
        "species = ['mRNA', 'Protein']\n",
        "\n",
        "#reagent and product matrices\n",
        "reagents = np.array([[0, 1, 1, 0],[0, 0, 0, 1]])\n",
        "products = np.array([[1, 0, 1, 0],[0, 0, 1, 0]])\n",
        "\n",
        "#kinetic parameters\n",
        "parameters = ['c1', 'c2', 'c3', 'c4']\n",
        "\n",
        "#system input. It affects first reaction\n",
        "inp = 'U'\n",
        "idxR = 1\n",
        "\n",
        "#gets simbolic differential equations \n",
        "equations, variables = s2b.simbODE(species, reagents, products, parameters,\n",
        "                                   inputN=inp)\n",
        "\n",
        "#muestra las ODEs obtenidas\n",
        "for s in range(0, len(species)):\n",
        "    print(f'd{species[s]}/dt:', equations[s])\n",
        "  \n",
        "print(variables)"
      ],
      "execution_count": 13,
      "outputs": [
        {
          "output_type": "stream",
          "text": [
            "dmRNA/dt: U*c1 - c2*mRNA\n",
            "dProtein/dt: -Protein*c4 + c3*mRNA\n",
            "{'species': [mRNA, Protein], 'pars': array([c1, c2, c3, c4], dtype=object), 'nameVar': array([U, mRNA, Protein], dtype=object)}\n"
          ],
          "name": "stdout"
        }
      ]
    },
    {
      "cell_type": "markdown",
      "metadata": {
        "id": "hLhXcYv69V4P"
      },
      "source": [
        "**Creates System Input**"
      ]
    },
    {
      "cell_type": "code",
      "metadata": {
        "id": "zSt4IjVo9aVT",
        "outputId": "22b4edf4-1a7c-49da-f0ae-a94d8202ce72",
        "colab": {
          "base_uri": "https://localhost:8080/",
          "height": 279
        }
      },
      "source": [
        "#computes a hog signal as system input\n",
        "#duration experiment\n",
        "tend = np.array([100], float)\n",
        "\n",
        "#pulse start and end \n",
        "ton = np.array([1], float)\n",
        "tdur = np.array([3], float)\n",
        "\n",
        "#calculo de la expresion y sus respectivos perfiles\n",
        "inputHOG, tog, perfiles = s2b.HOGexpr(ton, tdur, tend)\n",
        "\n",
        "#Plotting\n",
        "plt.figure()\n",
        "plt.plot(tog, perfiles['t_u_Valve'], label='Step Signal (Valve)')\n",
        "plt.plot(perfiles['t_u_Chamber'][0], perfiles['t_u_Chamber'][1], label='Delayed Step Signal (Camera)')\n",
        "plt.plot(tog, inputHOG, label='Model Signal (HOG)')\n",
        "plt.legend(loc='best')\n",
        "plt.xlabel('Time (min)')\n",
        "plt.ylabel('Concentration')\n",
        "plt.grid()\n",
        "plt.show()\n"
      ],
      "execution_count": 14,
      "outputs": [
        {
          "output_type": "display_data",
          "data": {
            "image/png": "[encoded data removed]",
            "text/plain": [
              "<Figure size 432x288 with 1 Axes>"
            ]
          },
          "metadata": {
            "tags": [],
            "needs_background": "light"
          }
        }
      ]
    },
    {
      "cell_type": "markdown",
      "metadata": {
        "id": "S7hvCdM_81Tk"
      },
      "source": [
        "**Solves Differential Equations System**"
      ]
    },
    {
      "cell_type": "code",
      "metadata": {
        "id": "BgjT2wcVHjAn",
        "outputId": "976bdb47-d9dc-4aa5-a708-29189a389f41",
        "colab": {
          "base_uri": "https://localhost:8080/",
          "height": 34
        }
      },
      "source": [
        "#replaces values in the simbolic expressions\n",
        "Vpars = [4.0, 0.010, 1.0, 0.006]\n",
        "\n",
        "odePars = []\n",
        "for expr in equations:\n",
        "  for i in range(0, len(Vpars)):\n",
        "    expr = expr.subs(parameters[i], Vpars[i])\n",
        "  #end for i\n",
        "  odePars.append(expr)\n",
        "#end for expr\n",
        "\n",
        "print(odePars)"
      ],
      "execution_count": 15,
      "outputs": [
        {
          "output_type": "stream",
          "text": [
            "[4.0*U - 0.01*mRNA, -0.006*Protein + 1.0*mRNA]\n"
          ],
          "name": "stdout"
        }
      ]
    },
    {
      "cell_type": "code",
      "metadata": {
        "id": "P7_XZpQI86u0"
      },
      "source": [
        "def modelODE(z,t,hog):\n",
        "    #each variable variable changes through iterations\n",
        "    tempZ = [hog]\n",
        "    tempZ.extend(z)\n",
        "\n",
        "    #empty list to store numeric values\n",
        "    value = []\n",
        "    \n",
        "    #evaluates function\n",
        "    evalue = exp(tempZ)\n",
        "    value = evalue\n",
        "        \n",
        "    return value\n",
        "\n",
        "#defines function that actually evaluates the expression\n",
        "exp = sp.lambdify([variables['nameVar']], odePars, \"numpy\")\n",
        "\n",
        "#species initial conditions\n",
        "Sn = len(species)\n",
        "sp0 = np.zeros(Sn)\n",
        "\n",
        "#array to store output\n",
        "valuesSp = np.zeros((Sn, len(tog)))\n",
        "\n",
        "#attaches initial conditions\n",
        "valuesSp[:,0] = sp0\n",
        "\n",
        "#loop to solve the differential equation system\n",
        "for t in range(1, len(tog)):\n",
        "    #sets a period of time\n",
        "    tspan = [tog[t-1], tog[t]]\n",
        "    \n",
        "    #solve differential equations system in a period of time\n",
        "    z = odeint(modelODE,sp0,tspan,args=(inputHOG[t],))\n",
        "    \n",
        "    #stores outcome from solving system\n",
        "    valuesSp[:,t] = z[1,:]\n",
        "    \n",
        "    #changes initial conditions for the next iteration\n",
        "    sp0 = z[1]\n",
        "#end for t"
      ],
      "execution_count": 16,
      "outputs": []
    },
    {
      "cell_type": "markdown",
      "metadata": {
        "id": "xRGcBNGsobhK"
      },
      "source": [
        "**System Output**"
      ]
    },
    {
      "cell_type": "code",
      "metadata": {
        "id": "dwnOvor6ogr4",
        "outputId": "8b6274a4-ce90-4ce6-b31a-e8d66a923651",
        "colab": {
          "base_uri": "https://localhost:8080/",
          "height": 281
        }
      },
      "source": [
        "plt.figure()\n",
        "for s in range(0,len(species)):\n",
        "    plt.subplot(len(species),1,s+1)\n",
        "    plt.plot(tog, valuesSp[s,:], label=str(variables[\"species\"][s]))\n",
        "    plt.xlabel('Time (min)')\n",
        "    plt.ylabel('Concentration')\n",
        "    plt.legend(loc='best')\n",
        "    plt.grid()\n",
        "plt.show()"
      ],
      "execution_count": 17,
      "outputs": [
        {
          "output_type": "display_data",
          "data": {
            "image/png": "[encoded data removed]",
            "text/plain": [
              "<Figure size 432x288 with 2 Axes>"
            ]
          },
          "metadata": {
            "tags": [],
            "needs_background": "light"
          }
        }
      ]
    }
  ]
}